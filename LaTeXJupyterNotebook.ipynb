{
 "cells": [
  {
   "cell_type": "markdown",
   "id": "8e9c093d",
   "metadata": {},
   "source": [
    "# LaTeX Examples\n",
    "\n",
    "This is the companion notebook to the LaTeX in Jupyter Markdown section of [Using LaTeX in Python](https://codesolid.com/using-latex-in-python/#htoc-latex-in-jupyter-markdown).\n",
    "\n",
    "## Centering\n",
    "\n",
    "_Source:_\n",
    "```\n",
    "$$\n",
    "\\lim_{x\\to0} \\frac{\\sin{x}}{x} = 1\n",
    "$$\n",
    "```\n",
    "_Output:_\n",
    "\n",
    "$$\n",
    "\\lim_{x\\to0} \\frac{\\sin{x}}{x} = 1\n",
    "$$"
   ]
  },
  {
   "cell_type": "markdown",
   "id": "dc212a0f",
   "metadata": {},
   "source": [
    "\n",
    "Inline:\n",
    "\n",
    "Source:\n",
    "```\n",
    "$\\lim_{x\\to0} \\frac{\\sin{x}}{x} = 1$\n",
    "```\n",
    "\n",
    "The output here is inline $\\lim_{x\\to0} \\frac{\\sin{x}}{x} = 1$"
   ]
  },
  {
   "cell_type": "markdown",
   "id": "09fe5513",
   "metadata": {},
   "source": [
    "A LaTeX equation on one line\n",
    "\n",
    "_Source:_\n",
    "```\n",
    "$\n",
    "\\begin{align}\n",
    "\\lim_{x\\to0} \\frac{\\sin{x}}{x} = 1\n",
    "\\end{align}\n",
    "$\n",
    "```\n",
    "_Output:_\n",
    "\n",
    "$\n",
    "\\begin{align}\n",
    "\\lim_{x\\to0} \\frac{\\sin{x}}{x} = 1\n",
    "\\end{align}\n",
    "$\n",
    "\n"
   ]
  },
  {
   "cell_type": "markdown",
   "id": "38cc6939-8768-4221-8e49-b315c3177d59",
   "metadata": {},
   "source": [
    "## Left-aligned\n",
    "\n",
    "_Source:_\n",
    "```\n",
    "$\n",
    "\\begin{align}\n",
    "\\lim_{x\\to0} \\frac{\\sin{x}}{x} = 1\n",
    "\\end{align}\n",
    "$\n",
    "```\n",
    "_Output:_\n",
    "\n",
    "$\n",
    "\\begin{align}\n",
    "\\lim_{x\\to0} \\frac{\\sin{x}}{x} = 1\n",
    "\\end{align}\n",
    "$"
   ]
  },
  {
   "cell_type": "markdown",
   "id": "c148412f-edde-48f8-92ec-34cc41075b0a",
   "metadata": {},
   "source": [
    "## Inline MathJax\n",
    "\n",
    "The function $f(x) = \\frac{17}{x-4}$ has a discontinuity at $x = 4$."
   ]
  },
  {
   "cell_type": "markdown",
   "id": "6a89dc9c-2faa-4581-86ca-817d2a8ce5cf",
   "metadata": {},
   "source": [
    "# MathJax is Not LaTeX\n",
    "\n",
    "Not everything that's supported in LaTeX is supported in MathJax, which forms the basis of LaTeX in Jupyter Notebook.  Consider for example the output we get if we try to use the ```\\usepackage``` directive or a LaTeX table, shown below.  \n",
    "\n",
    "Note that it's also possible to edit actual LaTeX files in Jupyter as well. See [LaTeX Files in JupyterLab](https://codesolid.com/using-latex-in-python/#htoc-latex-files-in-jupyterlab) and sample.tex."
   ]
  },
  {
   "cell_type": "code",
   "execution_count": null,
   "id": "8b70f71e-d9e0-4a32-a6fc-e32c1b3aa551",
   "metadata": {},
   "outputs": [],
   "source": []
  },
  {
   "cell_type": "markdown",
   "id": "1f9d01ce-db25-476c-8e56-b1bc5d7a457c",
   "metadata": {},
   "source": [
    "$$\n",
    "\\usepackage{amsmath}\n",
    "$$\n",
    "\n",
    "$$\n",
    "\\begin{table}[]\n",
    "\\begin{tabular}{lll}\n",
    "1 & 2 & 3  \\\\\n",
    "2 & 4 & 6 \\\\\n",
    "\\end{tabular}\n",
    "\\end{table}\n",
    "$$"
   ]
  }
 ],
 "metadata": {
  "kernelspec": {
   "display_name": "Python 3 (ipykernel)",
   "language": "python",
   "name": "python3"
  },
  "language_info": {
   "codemirror_mode": {
    "name": "ipython",
    "version": 3
   },
   "file_extension": ".py",
   "mimetype": "text/x-python",
   "name": "python",
   "nbconvert_exporter": "python",
   "pygments_lexer": "ipython3",
   "version": "3.8.13"
  }
 },
 "nbformat": 4,
 "nbformat_minor": 5
}
