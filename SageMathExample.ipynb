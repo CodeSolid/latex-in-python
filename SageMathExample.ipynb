{
 "cells": [
  {
   "cell_type": "markdown",
   "id": "b49259a7",
   "metadata": {},
   "source": [
    "# Basic Sage LaTeX Examples\n",
    "This is a companion notebook to the article [Using LaTeX in Python](https://codesolid.com/using-latex-in-python/).  For more information on how to use and customize LaTeX in Sage, see the [SageMath LaTeX Documentation](https://doc.sagemath.org/html/en/tutorial/latex.html).\n",
    "\n",
    "**NOTE:** Unlike other examples in this repository, this one must be run in Sage, which is not installed using the included Conda environment.yml or requirements.txt file in this repository.  For tips on installing Sage, see [Introducing Sage Math:  Symbolic Math Software in Python](https://codesolid.com/introducing-sage-math-python-based-mathematics/).\n",
    "\n"
   ]
  },
  {
   "cell_type": "markdown",
   "id": "5db6a9eb",
   "metadata": {},
   "source": [
    "## A Function and Its Solution\n",
    "\n",
    "First, we declare and solve a simple function with two roots in SageMath. We display the function and the solution by simply making them the last line of the cell, which calls the \"__repr__\" method by default.  \n",
    "\n",
    "(The $\\mapsto$ symbol is read as \"maps to\", so in other words, the function $f$ maps $x$ to x squared and so forth.)"
   ]
  },
  {
   "cell_type": "code",
   "execution_count": 1,
   "id": "d630e71d",
   "metadata": {},
   "outputs": [
    {
     "data": {
      "text/plain": [
       "x |--> x^2 - 5*x + 6"
      ]
     },
     "execution_count": 1,
     "metadata": {},
     "output_type": "execute_result"
    }
   ],
   "source": [
    "# Declare the function and show it\n",
    "f(x) = x^2 -5*x + 6\n",
    "f"
   ]
  },
  {
   "cell_type": "code",
   "execution_count": 2,
   "id": "9e48843d",
   "metadata": {},
   "outputs": [
    {
     "data": {
      "text/plain": [
       "[x == 3, x == 2]"
      ]
     },
     "execution_count": 2,
     "metadata": {},
     "output_type": "execute_result"
    }
   ],
   "source": [
    "# Show the solution\n",
    "solution = solve(f, x)\n",
    "solution"
   ]
  },
  {
   "cell_type": "markdown",
   "id": "c3adb239",
   "metadata": {},
   "source": [
    "## Formatting Them Using MathJax\n",
    "Formatting them is simple.  Just call SageMath's ```show``` function."
   ]
  },
  {
   "cell_type": "code",
   "execution_count": 3,
   "id": "f496b60e",
   "metadata": {},
   "outputs": [
    {
     "data": {
      "text/html": [
       "<html>\\(\\displaystyle x \\ {\\mapsto}\\ x^{2} - 5 \\, x + 6\\)</html>"
      ],
      "text/latex": [
       "$\\displaystyle x \\ {\\mapsto}\\ x^{2} - 5 \\, x + 6$"
      ],
      "text/plain": [
       "x |--> x^2 - 5*x + 6"
      ]
     },
     "metadata": {},
     "output_type": "display_data"
    },
    {
     "data": {
      "text/html": [
       "<html>\\(\\displaystyle \\left[x = 3, x = 2\\right]\\)</html>"
      ],
      "text/latex": [
       "$\\displaystyle \\left[x = 3, x = 2\\right]$"
      ],
      "text/plain": [
       "[x == 3, x == 2]"
      ]
     },
     "metadata": {},
     "output_type": "display_data"
    }
   ],
   "source": [
    "show(f)\n",
    "show(solution)"
   ]
  },
  {
   "cell_type": "markdown",
   "id": "72b6fed9",
   "metadata": {},
   "source": [
    "## Getting the LaTeX Source\n",
    "\n",
    "To get the LaTeX source, simply pass the SageMath expression to the ```latex``` function.  If you need a Python-pasteable version, wrap it in a str() constructor."
   ]
  },
  {
   "cell_type": "code",
   "execution_count": 4,
   "id": "80543077",
   "metadata": {},
   "outputs": [
    {
     "data": {
      "text/plain": [
       "x \\ {\\mapsto}\\ x^{2} - 5 \\, x + 6"
      ]
     },
     "execution_count": 4,
     "metadata": {},
     "output_type": "execute_result"
    }
   ],
   "source": [
    "latex(f)"
   ]
  },
  {
   "cell_type": "code",
   "execution_count": 5,
   "id": "554a9bf6",
   "metadata": {},
   "outputs": [
    {
     "data": {
      "text/plain": [
       "'x \\\\ {\\\\mapsto}\\\\ x^{2} - 5 \\\\, x + 6'"
      ]
     },
     "execution_count": 5,
     "metadata": {},
     "output_type": "execute_result"
    }
   ],
   "source": [
    "str(latex(f))"
   ]
  },
  {
   "cell_type": "code",
   "execution_count": 6,
   "id": "e451c902",
   "metadata": {},
   "outputs": [
    {
     "data": {
      "text/plain": [
       "\\left[x = 3, x = 2\\right]"
      ]
     },
     "execution_count": 6,
     "metadata": {},
     "output_type": "execute_result"
    }
   ],
   "source": [
    "latex(solve(f,x))"
   ]
  },
  {
   "cell_type": "markdown",
   "id": "efe4e207",
   "metadata": {},
   "source": [
    "# Configuring LaTeX in SageMath\n",
    "\n",
    "Using methods on latex object, we can do some basic customization of how things will appear in LaTeX."
   ]
  },
  {
   "cell_type": "code",
   "execution_count": 7,
   "id": "9621ec69",
   "metadata": {},
   "outputs": [
    {
     "data": {
      "text/html": [
       "<html>\\(\\displaystyle \\left(\\begin{array}{rr}\n",
       "1 & 3 \\\\\n",
       "5 & 7\n",
       "\\end{array}\\right)\\)</html>"
      ],
      "text/latex": [
       "$\\displaystyle \\left(\\begin{array}{rr}\n",
       "1 & 3 \\\\\n",
       "5 & 7\n",
       "\\end{array}\\right)$"
      ],
      "text/plain": [
       "[1 3]\n",
       "[5 7]"
      ]
     },
     "metadata": {},
     "output_type": "display_data"
    }
   ],
   "source": [
    "A = matrix(ZZ, 2, 2, [1,3,5,7])\n",
    "# This is actually the default\n",
    "latex.matrix_delimiters(left=\"(\", right=\")\")\n",
    "show(A)"
   ]
  },
  {
   "cell_type": "code",
   "execution_count": 8,
   "id": "7a5fb3fb",
   "metadata": {},
   "outputs": [
    {
     "data": {
      "text/html": [
       "<html>\\(\\displaystyle \\left[\\begin{array}{rr}\n",
       "1 & 3 \\\\\n",
       "5 & 7\n",
       "\\end{array}\\right]\\)</html>"
      ],
      "text/latex": [
       "$\\displaystyle \\left[\\begin{array}{rr}\n",
       "1 & 3 \\\\\n",
       "5 & 7\n",
       "\\end{array}\\right]$"
      ],
      "text/plain": [
       "[1 3]\n",
       "[5 7]"
      ]
     },
     "metadata": {},
     "output_type": "display_data"
    }
   ],
   "source": [
    "latex.matrix_delimiters(left=\"[\", right=\"]\")\n",
    "show(A)"
   ]
  },
  {
   "cell_type": "code",
   "execution_count": null,
   "id": "e8ed7184",
   "metadata": {},
   "outputs": [],
   "source": []
  }
 ],
 "metadata": {
  "kernelspec": {
   "display_name": "Python 3 (ipykernel)",
   "language": "python",
   "name": "python3"
  },
  "language_info": {
   "codemirror_mode": {
    "name": "ipython",
    "version": 3
   },
   "file_extension": ".py",
   "mimetype": "text/x-python",
   "name": "python",
   "nbconvert_exporter": "python",
   "pygments_lexer": "ipython3",
   "version": "3.8.13"
  }
 },
 "nbformat": 4,
 "nbformat_minor": 5
}
