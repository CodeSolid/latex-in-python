{
 "cells": [
  {
   "cell_type": "code",
   "execution_count": 1,
   "id": "6a9b7313-db12-4d9c-8f6d-91ff0c06ce24",
   "metadata": {},
   "outputs": [
    {
     "name": "stdout",
     "output_type": "stream",
     "text": [
      "Showing converted LaTeX string:\n",
      "\n",
      "\\begin{Bmatrix} \n",
      "1 & 2 & 3 & 4 \\\\ \n",
      "5 & 6 & 7 & 8 \\\\ \n",
      "9 & 10 & 11 & 12 \\\n",
      "\\end{Bmatrix}\n",
      "\n",
      "\n",
      "Displaying it using the Latex method of IPython.display:\n",
      "\n"
     ]
    },
    {
     "data": {
      "text/latex": [
       "\\begin{Bmatrix} \n",
       "1 & 2 & 3 & 4 \\\\ \n",
       "5 & 6 & 7 & 8 \\\\ \n",
       "9 & 10 & 11 & 12 \\\n",
       "\\end{Bmatrix}"
      ],
      "text/plain": [
       "<IPython.core.display.Latex object>"
      ]
     },
     "execution_count": 1,
     "metadata": {},
     "output_type": "execute_result"
    }
   ],
   "source": [
    "import numpy as np\n",
    "from latexifier import latexify\n",
    "from IPython.display import Latex\n",
    "\n",
    "# Create a sample \"Matrix\" (NumPy 2-D array)\n",
    "MM = np.arange(1,13).reshape(3,4)\n",
    "\n",
    "converted = latexify(MM, newline=True, arraytype=\"Bmatrix\")\n",
    "\n",
    "print(\"Showing converted LaTeX string:\\n\")\n",
    "print(converted)\n",
    "\n",
    "print(\"\\n\\nDisplaying it using the Latex method of IPython.display:\\n\")\n",
    "Latex(converted)"
   ]
  },
  {
   "cell_type": "code",
   "execution_count": 2,
   "id": "3dbe0f46-8a32-4a9c-803a-31288e1c7b67",
   "metadata": {},
   "outputs": [],
   "source": [
    "# A simple python list\n",
    "a_list = [2,4,6,8]\n",
    "one_d_array = np.array(a_list)\n",
    "\n",
    "as_row = latexify(one_d_array, column=False)\n",
    "as_column = latexify(one_d_array, column=True, arraytype=\"bmatrix\")"
   ]
  },
  {
   "cell_type": "code",
   "execution_count": 3,
   "id": "22c61309-610b-4dc2-bee5-7031c6f16f74",
   "metadata": {},
   "outputs": [
    {
     "name": "stdout",
     "output_type": "stream",
     "text": [
      "Displaying a row vector\n"
     ]
    },
    {
     "data": {
      "text/latex": [
       "\\begin{pmatrix} 2 & 4 & 6 & 8 \\end{pmatrix}"
      ],
      "text/plain": [
       "<IPython.core.display.Latex object>"
      ]
     },
     "execution_count": 3,
     "metadata": {},
     "output_type": "execute_result"
    }
   ],
   "source": [
    "print(\"Displaying a row vector\")\n",
    "Latex(as_row)"
   ]
  },
  {
   "cell_type": "code",
   "execution_count": 4,
   "id": "47fd81e2-cdcb-49a6-926f-138e6c404657",
   "metadata": {},
   "outputs": [
    {
     "name": "stdout",
     "output_type": "stream",
     "text": [
      "Displaying a column vector, with square brackets\n"
     ]
    },
    {
     "data": {
      "text/latex": [
       "\\begin{bmatrix} 2 \\\\ 4 \\\\ 6 \\\\ 8 \\end{bmatrix}"
      ],
      "text/plain": [
       "<IPython.core.display.Latex object>"
      ]
     },
     "execution_count": 4,
     "metadata": {},
     "output_type": "execute_result"
    }
   ],
   "source": [
    "print(\"Displaying a column vector, with square brackets\")\n",
    "Latex(as_column)"
   ]
  }
 ],
 "metadata": {
  "kernelspec": {
   "display_name": "Python 3 (ipykernel)",
   "language": "python",
   "name": "python3"
  },
  "language_info": {
   "codemirror_mode": {
    "name": "ipython",
    "version": 3
   },
   "file_extension": ".py",
   "mimetype": "text/x-python",
   "name": "python",
   "nbconvert_exporter": "python",
   "pygments_lexer": "ipython3",
   "version": "3.8.13"
  }
 },
 "nbformat": 4,
 "nbformat_minor": 5
}
