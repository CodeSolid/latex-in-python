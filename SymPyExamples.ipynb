{
 "cells": [
  {
   "cell_type": "markdown",
   "id": "a9b473c6-5db2-42cc-a8a6-d90cbc65b552",
   "metadata": {},
   "source": [
    "# SymPy LaTeX example\n",
    "SymPy uses LaTeX for automatic printing in notebook environment.  So there's not much to do other than make sure the expression we want to format nicely as the last line of the cell."
   ]
  },
  {
   "cell_type": "code",
   "execution_count": 1,
   "id": "3b7941b4-13c0-4ccf-bd88-16631df85140",
   "metadata": {},
   "outputs": [
    {
     "name": "stdout",
     "output_type": "stream",
     "text": [
      "\n"
     ]
    }
   ],
   "source": [
    "import sympy\n",
    "sympy.init_session(quiet=True, use_unicode=False)"
   ]
  },
  {
   "cell_type": "code",
   "execution_count": 2,
   "id": "d741c4c7-81f9-4332-ae76-e6fa0be8149c",
   "metadata": {},
   "outputs": [
    {
     "data": {
      "image/png": "[encoded data removed]",
      "text/latex": [
       "$\\displaystyle x^{2} - 5 x + 6$"
      ],
      "text/plain": [
       " 2          \n",
       "x  - 5*x + 6"
      ]
     },
     "execution_count": 2,
     "metadata": {},
     "output_type": "execute_result"
    }
   ],
   "source": [
    "# Declare a function and display it nicely\n",
    "f = x**2 - 5*x + 6\n",
    "f"
   ]
  },
  {
   "cell_type": "code",
   "execution_count": 3,
   "id": "42c6144a-2950-4a87-a2c1-6290a06d69e2",
   "metadata": {},
   "outputs": [
    {
     "data": {
      "image/png": "[encoded data removed]",
      "text/latex": [
       "$\\displaystyle \\left[ 2, \\  3\\right]$"
      ],
      "text/plain": [
       "[2, 3]"
      ]
     },
     "execution_count": 3,
     "metadata": {},
     "output_type": "execute_result"
    }
   ],
   "source": [
    "# Display the solution\n",
    "solution = solve(f)\n",
    "solution"
   ]
  },
  {
   "cell_type": "code",
   "execution_count": 4,
   "id": "525da4bb-db26-4543-b0c0-19aa6ed7a898",
   "metadata": {},
   "outputs": [
    {
     "name": "stdout",
     "output_type": "stream",
     "text": [
      "\\left[ 2, \\  3\\right]\n"
     ]
    },
    {
     "data": {
      "text/plain": [
       "'\\\\left[ 2, \\\\  3\\\\right]'"
      ]
     },
     "execution_count": 4,
     "metadata": {},
     "output_type": "execute_result"
    }
   ],
   "source": [
    "# Show the LaTeX:\n",
    "print_latex(solution)\n",
    "\n",
    "# Get the LaTeX string with the escape sequences\n",
    "latex(solution)"
   ]
  },
  {
   "cell_type": "code",
   "execution_count": 5,
   "id": "b6945882-f3e0-4247-89b8-87d069080356",
   "metadata": {},
   "outputs": [
    {
     "data": {
      "image/png": "[encoded data removed]",
      "text/latex": [
       "$\\displaystyle \\left[\\begin{matrix}1 & 2 & 3 & 4\\\\5 & 6 & 7 & 8\\\\9 & 10 & 11 & 12\\end{matrix}\\right]$"
      ],
      "text/plain": [
       "[1  2   3   4 ]\n",
       "[             ]\n",
       "[5  6   7   8 ]\n",
       "[             ]\n",
       "[9  10  11  12]"
      ]
     },
     "execution_count": 5,
     "metadata": {},
     "output_type": "execute_result"
    }
   ],
   "source": [
    "import numpy as np\n",
    "from sympy.matrices import Matrix\n",
    "\n",
    "MM = Matrix(np.arange(1,13).reshape(3,4))\n",
    "MM"
   ]
  }
 ],
 "metadata": {
  "kernelspec": {
   "display_name": "Python 3 (ipykernel)",
   "language": "python",
   "name": "python3"
  },
  "language_info": {
   "codemirror_mode": {
    "name": "ipython",
    "version": 3
   },
   "file_extension": ".py",
   "mimetype": "text/x-python",
   "name": "python",
   "nbconvert_exporter": "python",
   "pygments_lexer": "ipython3",
   "version": "3.8.13"
  }
 },
 "nbformat": 4,
 "nbformat_minor": 5
}
